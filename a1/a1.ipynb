{
 "cells": [
  {
   "cell_type": "code",
   "execution_count": null,
   "metadata": {},
   "outputs": [],
   "source": [
    "import requests\n",
    "import pandas as pd\n",
    "from config import abuse_API_key\n",
    "\n",
    "res = requests.get(\"https://api.abuseipdb.com/api/v2/blacklist\", headers={\"Key\": abuse_API_key})\n",
    "res.json()"
   ]
  },
  {
   "cell_type": "code",
   "execution_count": null,
   "metadata": {},
   "outputs": [],
   "source": [
    "data = res.json()\n",
    "ips = []\n",
    "for i in range (800):\n",
    "    ips.append(data['data'][i]['ipAddress'])\n"
   ]
  },
  {
   "cell_type": "code",
   "execution_count": null,
   "metadata": {},
   "outputs": [],
   "source": [
    "detailed = []\n",
    "i = 0\n",
    "for address in ips:\n",
    "    detailed.append(requests.get(f\"https://api.abuseipdb.com/api/v2/check?ipAddress={address}\",\n",
    "             headers={\"Key\": \"856a7889e9bc917f2b54aff296d3380cacdea7c240c3a106ae72f0c01d3d1c2d5c1ebdf7cb6e30c2\"}).json())\n",
    "\n"
   ]
  },
  {
   "cell_type": "code",
   "execution_count": null,
   "metadata": {},
   "outputs": [],
   "source": [
    "detailed[0]['data']"
   ]
  },
  {
   "cell_type": "code",
   "execution_count": null,
   "metadata": {},
   "outputs": [],
   "source": [
    "isp_count = {}\n",
    "for entry in detailed:\n",
    "    isp_count[entry['data']['domain']] = isp_count.get(entry['data']['domain'], 0) + 1\n",
    "sorted_isps = sorted(isp_count, reverse=True, key= lambda x: isp_count[x])\n",
    "counts = {}\n",
    "for entry in sorted_isps:\n",
    "    counts[entry] = isp_count[entry]\n",
    "\n",
    "counts"
   ]
  },
  {
   "cell_type": "code",
   "execution_count": null,
   "metadata": {},
   "outputs": [],
   "source": [
    "isp_count = {}\n",
    "unique_count = {}\n",
    "for entry in detailed:\n",
    "    isp_count[entry['data']['domain']] = isp_count.get(entry['data']['domain'], 0) + 1\n",
    "    unique_count[entry['data']['domain']] = unique_count.get(entry['data']['domain'], 0) + entry['data']['numDistinctUsers']\n",
    "\n",
    "ratio = {}\n",
    "for domain, count in isp_count.items():\n",
    "    ratio[domain] = count/unique_count[domain]\n",
    "    \n",
    "sorted_ratio = dict(sorted(ratio.items(), key= lambda v: v[1], reverse=True))\n",
    "sorted_ratio\n",
    "\n",
    "sorted_unique = dict(sorted(unique_count.items(), key= lambda v: v[1]))\n",
    "# sorted_unique\n",
    "\n",
    "# users >> abusive IPs -> users are less abusive\n",
    "# users ~= abusive IPs -> users are more abusive\n",
    "\n",
    "# abuse rank higher than user rank -> -- (abusive IPs/users >> users)\n",
    "# abuse rank lower than user rank -> ++ (abusive IPs/users << users)\n",
    "# equal: insignificant\n",
    "\n",
    "# ratio_rank = {}\n",
    "# i = 1\n",
    "# for e in sorted_ratio:\n",
    "#     ratio_rank[e] = i\n",
    "#     i += 1\n",
    "\n",
    "# users_rank = {}\n",
    "# i = 1\n",
    "# for e in sorted_unique:\n",
    "#     users_rank[e] = i\n",
    "#     i += 1\n",
    "\n",
    "# abusive_score = {}\n",
    "# for domain in ratio_rank:\n",
    "#     abusive_score[domain] = users_rank[domain] - ratio_rank[domain]\n",
    "    \n",
    "# abusive_score = dict(sorted(abusive_score.items(), key= lambda v: v[1], reverse=True))\n",
    "# abusive_score\n",
    "\n",
    "del sorted_ratio[None]\n",
    "for domain in isp_count:\n",
    "    if isp_count[domain] < 5:\n",
    "        del sorted_ratio[domain]\n",
    "df = pd.DataFrame.from_dict(sorted_ratio, orient='index', columns=['Abuse Index'])\n",
    "df.index.name = \"Domain\"\n",
    "df"
   ]
  },
  {
   "cell_type": "code",
   "execution_count": null,
   "metadata": {},
   "outputs": [],
   "source": []
  },
  {
   "cell_type": "code",
   "execution_count": null,
   "metadata": {},
   "outputs": [],
   "source": [
    "\n",
    " "
   ]
  }
 ],
 "metadata": {
  "kernelspec": {
   "display_name": "Python 3",
   "language": "python",
   "name": "python3"
  },
  "language_info": {
   "codemirror_mode": {
    "name": "ipython",
    "version": 3
   },
   "file_extension": ".py",
   "mimetype": "text/x-python",
   "name": "python",
   "nbconvert_exporter": "python",
   "pygments_lexer": "ipython3",
   "version": "3.11.1"
  },
  "orig_nbformat": 4
 },
 "nbformat": 4,
 "nbformat_minor": 2
}
