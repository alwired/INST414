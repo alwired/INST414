{
 "cells": [
  {
   "cell_type": "code",
   "execution_count": null,
   "metadata": {},
   "outputs": [],
   "source": [
    "from config import key, id\n",
    "import requests\n",
    "import networkx as nx"
   ]
  },
  {
   "cell_type": "code",
   "execution_count": null,
   "metadata": {},
   "outputs": [],
   "source": [
    "res = requests.get(f\"https://philpapers.org/philpapers/raw/categories.json?apiId={id}&apiKey={key}\")"
   ]
  },
  {
   "cell_type": "code",
   "execution_count": null,
   "metadata": {},
   "outputs": [],
   "source": [
    "data = res.json()\n",
    "topic_ids = {}\n",
    "for topic in data:\n",
    "    topic_ids[topic[1]] = topic[0]\n",
    "\n",
    "data"
   ]
  },
  {
   "cell_type": "code",
   "execution_count": null,
   "metadata": {},
   "outputs": [],
   "source": [
    "g = nx.Graph()\n",
    "for topic in data:\n",
    "    parents = [int(id) for id in topic[2].split(',')]\n",
    "    for parent_id in parents:\n",
    "        if parent_id == 1:\n",
    "            continue\n",
    "        g.add_edge(topic[0], topic_ids[parent_id])\n",
    "        \n",
    "nx.write_graphml(g, \"phil_topics.graphml\")"
   ]
  },
  {
   "cell_type": "code",
   "execution_count": null,
   "metadata": {},
   "outputs": [],
   "source": [
    "g2 = nx.Graph()\n",
    "for topic in data:\n",
    "    g2.add_edge(topic[0], topic_ids[topic[3]])\n",
    "        \n",
    "nx.write_graphml(g2, \"phil_topics_single_parent.graphml\")"
   ]
  },
  {
   "cell_type": "code",
   "execution_count": null,
   "metadata": {},
   "outputs": [],
   "source": [
    "data = res.json()\n",
    "topic_ids = {}\n",
    "for topic in data:\n",
    "    topic_ids[topic[1]] = topic[0]\n",
    "\n",
    "g3 = nx.Graph()\n",
    "for topic in data:\n",
    "    parents = [int(id) for id in topic[2].split(',')]\n",
    "    for parent_id in parents:\n",
    "        if parent_id == 1:\n",
    "            continue\n",
    "        g3.add_edge(topic[0], topic_ids[parent_id])\n",
    "        \n",
    "nx.write_graphml(g3, \"phil_topics_no_root.graphml\")"
   ]
  },
  {
   "cell_type": "code",
   "execution_count": null,
   "metadata": {},
   "outputs": [],
   "source": [
    "data = res.json()\n",
    "topic_ids = {}\n",
    "for topic in data:\n",
    "    topic_ids[topic[1]] = topic[0]\n",
    "\n",
    "g4 = nx.Graph()\n",
    "topicset = {'20th Century Continental Philosophy'}\n",
    "\n",
    "for topic in data:\n",
    "    parents = [int(id) for id in topic[2].split(',')]\n",
    "    for parent_id in parents:\n",
    "        if parent_id == 1:\n",
    "            continue\n",
    "        if topic[0] in topicset or topic_ids[parent_id] in topicset:\n",
    "            g4.add_edge(topic[0], topic_ids[parent_id])\n",
    "            topicset.add(topic[0])\n",
    "            topicset.add(topic_ids[parent_id])\n",
    "        \n",
    "nx.write_graphml(g4, \"phil_topics_20th.graphml\")"
   ]
  }
 ],
 "metadata": {
  "kernelspec": {
   "display_name": "Python 3",
   "language": "python",
   "name": "python3"
  },
  "language_info": {
   "codemirror_mode": {
    "name": "ipython",
    "version": 3
   },
   "file_extension": ".py",
   "mimetype": "text/x-python",
   "name": "python",
   "nbconvert_exporter": "python",
   "pygments_lexer": "ipython3",
   "version": "3.11.1"
  },
  "orig_nbformat": 4
 },
 "nbformat": 4,
 "nbformat_minor": 2
}
